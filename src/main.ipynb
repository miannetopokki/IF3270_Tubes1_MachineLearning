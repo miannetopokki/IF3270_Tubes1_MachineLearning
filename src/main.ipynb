{
 "cells": [
  {
   "cell_type": "markdown",
   "metadata": {},
   "source": [
    "### Import Library"
   ]
  },
  {
   "cell_type": "code",
   "execution_count": 1,
   "metadata": {},
   "outputs": [],
   "source": [
    "from lib.MLP import *\n",
    "from lib.graph import draw_dot\n",
    "from lib.graph import draw_mlp\n",
    "import random\n",
    "\n",
    "\n",
    "import time\n",
    "import matplotlib.pyplot as plt\n",
    "import numpy as np\n",
    "\n",
    "from sklearn.neural_network import MLPClassifier\n",
    "from sklearn.datasets import fetch_openml\n",
    "from sklearn.linear_model import LogisticRegression\n",
    "from sklearn.model_selection import train_test_split\n",
    "from sklearn.preprocessing import StandardScaler\n",
    "from sklearn.utils import check_random_state\n",
    "from sklearn.preprocessing import OneHotEncoder\n",
    "from sklearn.metrics import accuracy_score, classification_report, confusion_matrix\n"
   ]
  },
  {
   "cell_type": "markdown",
   "metadata": {},
   "source": [
    "### Mnist Scikit"
   ]
  },
  {
   "cell_type": "markdown",
   "metadata": {},
   "source": [
    "#### Log Regression"
   ]
  },
  {
   "cell_type": "code",
   "execution_count": null,
   "metadata": {},
   "outputs": [],
   "source": [
    "# Turn down for faster convergence\n",
    "t0 = time.time()\n",
    "train_samples = 5000\n",
    "\n",
    "# Load data from https://www.openml.org/d/554\n",
    "X, y = fetch_openml(\"mnist_784\", version=1, return_X_y=True, as_frame=False)\n",
    "\n",
    "\n",
    "#Ngebantu ngacak urutan data, biar gk bias ke 0 soalnya mnist ngurut\n",
    "random_state = check_random_state(0)\n",
    "permutation = random_state.permutation(X.shape[0])\n",
    "X = X[permutation]\n",
    "y = y[permutation]\n",
    "X = X.reshape((X.shape[0], -1))\n",
    "\n",
    "\n"
   ]
  },
  {
   "cell_type": "code",
   "execution_count": null,
   "metadata": {},
   "outputs": [],
   "source": [
    "\n",
    "X_train, X_test, y_train, y_test = train_test_split(\n",
    "    X, y, train_size=train_samples, test_size=10000\n",
    ")"
   ]
  },
  {
   "cell_type": "code",
   "execution_count": null,
   "metadata": {},
   "outputs": [],
   "source": [
    "print(f\"Shape X_train: {X_train.shape}, y_train: {y_train.shape}\")\n",
    "print(f\"Shape X_test: {X_test.shape}, y_test: {y_test.shape}\")"
   ]
  },
  {
   "cell_type": "code",
   "execution_count": null,
   "metadata": {},
   "outputs": [],
   "source": [
    "scaler = StandardScaler()\n",
    "X_train = scaler.fit_transform(X_train)\n",
    "X_test = scaler.transform(X_test)"
   ]
  },
  {
   "cell_type": "code",
   "execution_count": null,
   "metadata": {},
   "outputs": [],
   "source": [
    "# Turn up tolerance for faster convergence\n",
    "clf = LogisticRegression()\n",
    "clf.fit(X_train, y_train)\n",
    "sparsity = np.mean(clf.coef_ == 0) * 100\n",
    "score = clf.score(X_test, y_test)\n",
    "# print('Best C % .4f' % clf.C_)\n",
    "print(\"Sparsity with L1 penalty: %.2f%%\" % sparsity)\n",
    "print(\"Test score with L1 penalty: %.4f\" % score)"
   ]
  },
  {
   "cell_type": "code",
   "execution_count": null,
   "metadata": {},
   "outputs": [],
   "source": [
    "import matplotlib.pyplot as plt\n",
    "\n",
    "plt.hist(clf.coef_[0], bins=20)\n",
    "plt.xlabel(\"Coefficient Value\")\n",
    "plt.ylabel(\"Frequency\")\n",
    "plt.title(\"Distribution of Coefficients\")\n",
    "plt.show()"
   ]
  },
  {
   "cell_type": "code",
   "execution_count": null,
   "metadata": {},
   "outputs": [],
   "source": [
    "coef = clf.coef_.copy()\n",
    "plt.figure(figsize=(10, 5))\n",
    "scale = np.abs(coef).max()\n",
    "for i in range(10):\n",
    "    l1_plot = plt.subplot(2, 5, i + 1)\n",
    "    l1_plot.imshow(\n",
    "        coef[i].reshape(28, 28),\n",
    "        interpolation=\"nearest\",\n",
    "        cmap=plt.cm.RdBu,\n",
    "        vmin=-scale,\n",
    "        vmax=scale,\n",
    "    )\n",
    "    l1_plot.set_xticks(())\n",
    "    l1_plot.set_yticks(())\n",
    "    l1_plot.set_xlabel(\"Class %i\" % i)\n",
    "plt.suptitle(\"Classification vector for...\")\n",
    "\n",
    "run_time = time.time() - t0\n",
    "print(\"Example run in %.3f s\" % run_time)\n",
    "plt.show()"
   ]
  },
  {
   "cell_type": "markdown",
   "metadata": {},
   "source": [
    "#### MLP Scikit"
   ]
  },
  {
   "cell_type": "code",
   "execution_count": null,
   "metadata": {},
   "outputs": [],
   "source": [
    "# Load MNIST dari OpenML\n",
    "X, y = fetch_openml(\"mnist_784\", version=1, return_X_y=True, as_frame=False)\n",
    "permutation = random_state.permutation(X.shape[0])\n",
    "X = X[permutation]\n",
    "y = y[permutation]\n",
    "X = X.reshape((X.shape[0], -1))\n",
    "# Normalisasi (scaling agar lebih stabil)\n",
    "scaler = StandardScaler()\n",
    "X = scaler.fit_transform(X)\n",
    "\n",
    "# Split data menjadi training & testing\n",
    "X_train, X_test, y_train, y_test = train_test_split(X, y, test_size=0.2, random_state=42)\n",
    "\n"
   ]
  },
  {
   "cell_type": "code",
   "execution_count": null,
   "metadata": {},
   "outputs": [],
   "source": [
    "# Buat model MLP\n",
    "mlp = MLPClassifier(hidden_layer_sizes=(128, 64), activation='relu', solver='adam',\n",
    "                    alpha=0.001, max_iter=20, random_state=42)\n",
    "\n",
    "# Training model\n",
    "mlp.fit(X_train, y_train)\n",
    "\n",
    "# Prediksi pada data uji\n",
    "y_pred = mlp.predict(X_test)\n"
   ]
  },
  {
   "cell_type": "code",
   "execution_count": null,
   "metadata": {},
   "outputs": [],
   "source": [
    "# Akurasi\n",
    "accuracy = accuracy_score(y_test, y_pred)\n",
    "print(f\"Akurasi Model MLP: {accuracy:.4f}\")\n",
    "\n",
    "# Classification Report\n",
    "print(\"Classification Report:\\n\", classification_report(y_test, y_pred))\n",
    "\n",
    "# Confusion Matrix\n",
    "plt.figure(figsize=(8, 6))\n",
    "sns.heatmap(confusion_matrix(y_test, y_pred), annot=True, fmt=\"d\", cmap=\"Blues\")\n",
    "plt.xlabel(\"Predicted Label\")\n",
    "plt.ylabel(\"True Label\")\n",
    "plt.title(\"Confusion Matrix\")\n",
    "plt.show()\n"
   ]
  },
  {
   "cell_type": "code",
   "execution_count": null,
   "metadata": {},
   "outputs": [],
   "source": [
    "sample_idx = 2\n",
    "sample_image = X_test[sample_idx].reshape(1, -1)  # Ambil satu sample\n",
    "proba = mlp.predict_proba(sample_image)[0]  # Ambil probabilitas dari output\n",
    "proba"
   ]
  },
  {
   "cell_type": "code",
   "execution_count": null,
   "metadata": {},
   "outputs": [],
   "source": [
    "# Pilih satu gambar uji\n",
    "sample_idx = 2\n",
    "sample_image = X_test[sample_idx].reshape(1, -1)  # Ambil satu sample\n",
    "proba = mlp.predict_proba(sample_image)[0]  # Ambil probabilitas dari output\n",
    "\n",
    "# Plot Probabilitas Output\n",
    "plt.bar(range(10), proba)\n",
    "plt.xlabel(\"Digit (0-9)\")\n",
    "plt.ylabel(\"Probabilitas\")\n",
    "plt.title(\"Probabilitas Prediksi Model MLP Sklearn\")\n",
    "plt.show()\n"
   ]
  },
  {
   "cell_type": "code",
   "execution_count": null,
   "metadata": {},
   "outputs": [],
   "source": [
    "sample_image"
   ]
  },
  {
   "cell_type": "markdown",
   "metadata": {},
   "source": [
    "### Implementation Scratch"
   ]
  },
  {
   "cell_type": "markdown",
   "metadata": {},
   "source": [
    "#### MNIST"
   ]
  },
  {
   "cell_type": "code",
   "execution_count": 22,
   "metadata": {},
   "outputs": [],
   "source": [
    "# Load data from https://www.openml.org/d/554\n",
    "X, y = fetch_openml(\"mnist_784\", version=1, return_X_y=True, as_frame=False)"
   ]
  },
  {
   "cell_type": "code",
   "execution_count": 24,
   "metadata": {},
   "outputs": [
    {
     "name": "stdout",
     "output_type": "stream",
     "text": [
      "Shape X_train: (1000, 784), y_train: (1000, 10)\n",
      "Shape X_test: (500, 784), y_test: (500, 10)\n"
     ]
    }
   ],
   "source": [
    "train_samples = 1000\n",
    "random_state = check_random_state(0)\n",
    "permutation = random_state.permutation(X.shape[0])\n",
    "X = X[permutation]\n",
    "y = y[permutation]\n",
    "X = X.reshape((X.shape[0], -1))\n",
    "X = X / 255.0\n",
    "\n",
    "\n",
    "X_train, X_test, y_train, y_test = train_test_split(\n",
    "    X, y, train_size=train_samples, test_size=500\n",
    ")\n",
    "encoder = OneHotEncoder(sparse_output=False)\n",
    "y_train_encode = encoder.fit_transform(y_train.reshape(-1, 1))\n",
    "y_test_encode = encoder.transform(y_test.reshape(-1, 1))\n",
    "\n",
    "input_layer = X_train.shape[1]  # 784\n",
    "output_layer = 10  # MNIST punya 10 kelas (0-9)\n",
    "print(f\"Shape X_train: {X_train.shape}, y_train: {y_train_encode.shape}\")\n",
    "print(f\"Shape X_test: {X_test.shape}, y_test: {y_test_encode.shape}\")"
   ]
  },
  {
   "cell_type": "code",
   "execution_count": 25,
   "metadata": {},
   "outputs": [
    {
     "name": "stdout",
     "output_type": "stream",
     "text": [
      "sz:  [784, 16, 8, 10]\n"
     ]
    }
   ],
   "source": [
    "layer_f_activations = [\n",
    "  [16, 'relu'], \n",
    "  [8, 'relu'], \n",
    "  [output_layer, 'softmax'] \n",
    "]\n",
    "weight = Weight(\"uniform\", 42, input_layer, lower=-0.1, upper=0.1)\n",
    "n = MLP(input_layer, [n[0] for n in layer_f_activations], activations=[n[1] for n in layer_f_activations], weight=weight)\n",
    "\n",
    "\n"
   ]
  },
  {
   "cell_type": "code",
   "execution_count": null,
   "metadata": {},
   "outputs": [],
   "source": [
    "n.fit(x=X_train, y=y_train_encode, epoch=2, lossfunc=\"MSE\", learning_rate=0.01)"
   ]
  },
  {
   "cell_type": "code",
   "execution_count": 26,
   "metadata": {},
   "outputs": [
    {
     "name": "stderr",
     "output_type": "stream",
     "text": [
      "Training: 100%|██████████| 1/1 [09:01<00:00, 541.48s/epoch, Train Loss=0.0902]\n"
     ]
    },
    {
     "data": {
      "text/plain": [
       "inputx : 784 MLP of [Layer of [ReluNeuron(784), ReluNeuron(784), ReluNeuron(784), ReluNeuron(784), ReluNeuron(784), ReluNeuron(784), ReluNeuron(784), ReluNeuron(784), ReluNeuron(784), ReluNeuron(784), ReluNeuron(784), ReluNeuron(784), ReluNeuron(784), ReluNeuron(784), ReluNeuron(784), ReluNeuron(784)], Layer of [ReluNeuron(784), ReluNeuron(784), ReluNeuron(784), ReluNeuron(784), ReluNeuron(784), ReluNeuron(784), ReluNeuron(784), ReluNeuron(784)], Layer of [SoftmaxNeuron(784), SoftmaxNeuron(784), SoftmaxNeuron(784), SoftmaxNeuron(784), SoftmaxNeuron(784), SoftmaxNeuron(784), SoftmaxNeuron(784), SoftmaxNeuron(784), SoftmaxNeuron(784), SoftmaxNeuron(784)]]"
      ]
     },
     "execution_count": 26,
     "metadata": {},
     "output_type": "execute_result"
    }
   ],
   "source": [
    "n.fit_minibatch(x=X_train, y=y_train_encode, epoch=1, lossfunc=\"MSE\", learning_rate=0.001, batch_size=10)\n"
   ]
  },
  {
   "cell_type": "code",
   "execution_count": 13,
   "metadata": {},
   "outputs": [
    {
     "data": {
      "image/png": "[encoded data removed]",
      "text/plain": [
       "<Figure size 640x480 with 1 Axes>"
      ]
     },
     "metadata": {},
     "output_type": "display_data"
    }
   ],
   "source": [
    "import matplotlib.pyplot as plt\n",
    "\n",
    "# Ambil satu sampel\n",
    "sample_idx = 400\n",
    "sample_image = X_test[sample_idx].reshape(28, 28)  # Ubah ke bentuk asli 28x28\n",
    "\n",
    "# Plot gambar\n",
    "plt.imshow(sample_image, cmap=\"gray\")\n",
    "plt.title(f\"Sample Index: {sample_idx}\")\n",
    "plt.axis(\"off\")  # Hilangkan sumbu\n",
    "plt.show()\n"
   ]
  },
  {
   "cell_type": "code",
   "execution_count": 15,
   "metadata": {},
   "outputs": [],
   "source": [
    "sample_image = X_test[sample_idx].reshape(1, -1) \n",
    "ypred = n.predict(sample_image)\n",
    "proba = []\n",
    "for y in ypred:\n",
    "    for y_i in y:\n",
    "        proba.append(y_i.data)\n"
   ]
  },
  {
   "cell_type": "code",
   "execution_count": 16,
   "metadata": {},
   "outputs": [
    {
     "data": {
      "text/plain": [
       "[[Value(data=0.7412271054845556, grad=0),\n",
       "  Value(data=0.6973990564782304, grad=0),\n",
       "  Value(data=0.7497800792673442, grad=0),\n",
       "  Value(data=0.7243061798162219, grad=0),\n",
       "  Value(data=0.7403522505893, grad=0),\n",
       "  Value(data=0.748907199117012, grad=0),\n",
       "  Value(data=0.7687154816653705, grad=0),\n",
       "  Value(data=0.7001067450374765, grad=0),\n",
       "  Value(data=0.7571633211279303, grad=0),\n",
       "  Value(data=0.7567846590058075, grad=0)]]"
      ]
     },
     "execution_count": 16,
     "metadata": {},
     "output_type": "execute_result"
    }
   ],
   "source": [
    "ypred"
   ]
  },
  {
   "cell_type": "code",
   "execution_count": null,
   "metadata": {},
   "outputs": [],
   "source": [
    "# Plot Probabilitas Output\n",
    "plt.bar(range(10),proba )\n",
    "plt.xlabel(\"Digit (0-9)\")\n",
    "plt.ylabel(\"Probabilitas\")\n",
    "plt.title(\"Probabilitas Prediksi Model MLP Sklearn\")\n",
    "plt.show()"
   ]
  },
  {
   "cell_type": "code",
   "execution_count": null,
   "metadata": {},
   "outputs": [],
   "source": [
    "layer1_weights = np.array([neuron.w for neuron in n.layers[1].neurons])  \n",
    "print(layer1_weights.shape) \n",
    "\n",
    "coef = layer1_weights.copy()  \n",
    "coef_array = np.array([[v.data for v in row] for row in coef])  \n",
    "sparsity = np.mean(coef_array == 0) * 100\n",
    "import matplotlib.pyplot as plt\n",
    "\n",
    "plt.figure(figsize=(10, 5))\n",
    "scale = np.abs(coef_array).max()\n",
    "\n",
    "for i in range(10):\n",
    "    l1_plot = plt.subplot(2, 5, i + 1)\n",
    "    l1_plot.imshow(\n",
    "        coef_array[i].reshape(28, 28),  # Sesuai format 28x28\n",
    "        interpolation=\"nearest\",\n",
    "        cmap=plt.cm.RdBu,\n",
    "        vmin=-scale,\n",
    "        vmax=scale,\n",
    "    )\n",
    "    l1_plot.set_xticks(())\n",
    "    l1_plot.set_yticks(())\n",
    "    l1_plot.set_xlabel(f\"Class {i}\")\n",
    "\n",
    "plt.suptitle(\"Classification vector for first hidden layer weights\")\n",
    "plt.show()\n"
   ]
  },
  {
   "cell_type": "code",
   "execution_count": null,
   "metadata": {},
   "outputs": [],
   "source": [
    "n.plot_W_distribution(layers=0)"
   ]
  },
  {
   "cell_type": "markdown",
   "metadata": {},
   "source": [
    "#### Sample Testing"
   ]
  },
  {
   "cell_type": "code",
   "execution_count": null,
   "metadata": {},
   "outputs": [],
   "source": [
    "\n",
    "\n",
    "\n",
    "input_layer = 784\n",
    "output_layer = 10\n",
    "batch_size = 100\n",
    "np.random.seed(42)\n",
    "x = np.random.uniform(-2,2,(batch_size,input_layer))\n",
    "y= np.random.uniform(-1,1,(batch_size,output_layer))\n",
    "\n",
    "\n",
    "\n",
    "X_train, X_val, y_train, y_val = train_test_split(x, y, test_size=0.3, random_state=42)\n",
    "\n",
    "print(\"Training X shape:\", X_train.shape)\n",
    "print(\"Validation Y shape:\", y_val.shape)\n"
   ]
  },
  {
   "cell_type": "code",
   "execution_count": null,
   "metadata": {},
   "outputs": [],
   "source": [
    "layer_f_activations = [\n",
    "  [16,'relu'],\n",
    "  [8,'relu'],\n",
    "\n",
    "  [output_layer,'softmax']\n",
    "]\n",
    "weight = Weight(\"uniform\", 42, input_layer, lower=-1, upper=1)\n",
    "\n",
    "#kalau mau ada history valid  loss, masukin y_val dan x_val\n",
    "n = MLP(input_layer,[n[0] for n in layer_f_activations],activations=[n[1] for n in layer_f_activations],weight=weight)\n",
    "n.fit(x=X_train,y = y_train ,epoch=1,lossfunc=\"MSE\",learning_rate=0.01)\n",
    "\n"
   ]
  },
  {
   "cell_type": "code",
   "execution_count": null,
   "metadata": {},
   "outputs": [],
   "source": [
    "n.plot_loss()"
   ]
  },
  {
   "cell_type": "code",
   "execution_count": null,
   "metadata": {},
   "outputs": [],
   "source": [
    "n.plot_W_distribution()"
   ]
  },
  {
   "cell_type": "code",
   "execution_count": null,
   "metadata": {},
   "outputs": [],
   "source": [
    "n.show_grad_distribution()"
   ]
  },
  {
   "cell_type": "code",
   "execution_count": null,
   "metadata": {},
   "outputs": [],
   "source": [
    "for i in range(0,len(n.layers)):\n",
    "  n.plot_W_distribution(i)"
   ]
  },
  {
   "cell_type": "code",
   "execution_count": null,
   "metadata": {},
   "outputs": [],
   "source": [
    "for i in range(0,len(n.layers)):\n",
    "  n.plot_grad_distribution(i)"
   ]
  },
  {
   "cell_type": "code",
   "execution_count": null,
   "metadata": {},
   "outputs": [],
   "source": [
    "draw_mlp(n)"
   ]
  },
  {
   "cell_type": "code",
   "execution_count": null,
   "metadata": {},
   "outputs": [],
   "source": [
    "draw_dot(mse).render(\"graph_output.dot\",view = True)"
   ]
  },
  {
   "cell_type": "code",
   "execution_count": null,
   "metadata": {},
   "outputs": [],
   "source": [
    "print(mse._prev)"
   ]
  },
  {
   "cell_type": "code",
   "execution_count": null,
   "metadata": {},
   "outputs": [],
   "source": [
    "draw_mlp(n).render(\"mlp.dot\",view= True)\n"
   ]
  }
 ],
 "metadata": {
  "kernelspec": {
   "display_name": "Python 3",
   "language": "python",
   "name": "python3"
  },
  "language_info": {
   "codemirror_mode": {
    "name": "ipython",
    "version": 3
   },
   "file_extension": ".py",
   "mimetype": "text/x-python",
   "name": "python",
   "nbconvert_exporter": "python",
   "pygments_lexer": "ipython3",
   "version": "3.10.7"
  }
 },
 "nbformat": 4,
 "nbformat_minor": 2
}
