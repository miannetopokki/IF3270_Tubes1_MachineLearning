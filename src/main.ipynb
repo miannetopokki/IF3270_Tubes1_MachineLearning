{
 "cells": [
  {
   "cell_type": "markdown",
   "metadata": {},
   "source": [
    "### Import Library"
   ]
  },
  {
   "cell_type": "code",
   "execution_count": 1,
   "metadata": {},
   "outputs": [],
   "source": [
    "from lib.MLP import *\n",
    "from lib.graph import draw_dot\n",
    "from lib.graph import draw_mlp\n",
    "import random\n",
    "\n",
    "\n",
    "import time\n",
    "import matplotlib.pyplot as plt\n",
    "import numpy as np\n",
    "\n",
    "from sklearn.neural_network import MLPClassifier\n",
    "from sklearn.datasets import fetch_openml\n",
    "from sklearn.linear_model import LogisticRegression\n",
    "from sklearn.model_selection import train_test_split\n",
    "from sklearn.preprocessing import StandardScaler\n",
    "from sklearn.utils import check_random_state\n",
    "from sklearn.preprocessing import OneHotEncoder\n",
    "from sklearn.metrics import accuracy_score, classification_report, confusion_matrix\n"
   ]
  },
  {
   "cell_type": "markdown",
   "metadata": {},
   "source": [
    "### Mnist Scikit"
   ]
  },
  {
   "cell_type": "markdown",
   "metadata": {},
   "source": [
    "#### Log Regression"
   ]
  },
  {
   "cell_type": "code",
   "execution_count": null,
   "metadata": {},
   "outputs": [],
   "source": [
    "# Turn down for faster convergence\n",
    "t0 = time.time()\n",
    "train_samples = 5000\n",
    "\n",
    "# Load data from https://www.openml.org/d/554\n",
    "X, y = fetch_openml(\"mnist_784\", version=1, return_X_y=True, as_frame=False)\n",
    "\n",
    "\n",
    "#Ngebantu ngacak urutan data, biar gk bias ke 0 soalnya mnist ngurut\n",
    "random_state = check_random_state(0)\n",
    "permutation = random_state.permutation(X.shape[0])\n",
    "X = X[permutation]\n",
    "y = y[permutation]\n",
    "X = X.reshape((X.shape[0], -1))\n",
    "\n",
    "\n"
   ]
  },
  {
   "cell_type": "code",
   "execution_count": null,
   "metadata": {},
   "outputs": [],
   "source": [
    "\n",
    "X_train, X_test, y_train, y_test = train_test_split(\n",
    "    X, y, train_size=train_samples, test_size=10000\n",
    ")"
   ]
  },
  {
   "cell_type": "code",
   "execution_count": null,
   "metadata": {},
   "outputs": [],
   "source": [
    "print(f\"Shape X_train: {X_train.shape}, y_train: {y_train.shape}\")\n",
    "print(f\"Shape X_test: {X_test.shape}, y_test: {y_test.shape}\")"
   ]
  },
  {
   "cell_type": "code",
   "execution_count": null,
   "metadata": {},
   "outputs": [],
   "source": [
    "scaler = StandardScaler()\n",
    "X_train = scaler.fit_transform(X_train)\n",
    "X_test = scaler.transform(X_test)"
   ]
  },
  {
   "cell_type": "code",
   "execution_count": null,
   "metadata": {},
   "outputs": [],
   "source": [
    "# Turn up tolerance for faster convergence\n",
    "clf = LogisticRegression()\n",
    "clf.fit(X_train, y_train)\n",
    "sparsity = np.mean(clf.coef_ == 0) * 100\n",
    "score = clf.score(X_test, y_test)\n",
    "# print('Best C % .4f' % clf.C_)\n",
    "print(\"Sparsity with L1 penalty: %.2f%%\" % sparsity)\n",
    "print(\"Test score with L1 penalty: %.4f\" % score)"
   ]
  },
  {
   "cell_type": "code",
   "execution_count": null,
   "metadata": {},
   "outputs": [],
   "source": [
    "import matplotlib.pyplot as plt\n",
    "\n",
    "plt.hist(clf.coef_[0], bins=20)\n",
    "plt.xlabel(\"Coefficient Value\")\n",
    "plt.ylabel(\"Frequency\")\n",
    "plt.title(\"Distribution of Coefficients\")\n",
    "plt.show()"
   ]
  },
  {
   "cell_type": "code",
   "execution_count": null,
   "metadata": {},
   "outputs": [],
   "source": [
    "coef = clf.coef_.copy()\n",
    "plt.figure(figsize=(10, 5))\n",
    "scale = np.abs(coef).max()\n",
    "for i in range(10):\n",
    "    l1_plot = plt.subplot(2, 5, i + 1)\n",
    "    l1_plot.imshow(\n",
    "        coef[i].reshape(28, 28),\n",
    "        interpolation=\"nearest\",\n",
    "        cmap=plt.cm.RdBu,\n",
    "        vmin=-scale,\n",
    "        vmax=scale,\n",
    "    )\n",
    "    l1_plot.set_xticks(())\n",
    "    l1_plot.set_yticks(())\n",
    "    l1_plot.set_xlabel(\"Class %i\" % i)\n",
    "plt.suptitle(\"Classification vector for...\")\n",
    "\n",
    "run_time = time.time() - t0\n",
    "print(\"Example run in %.3f s\" % run_time)\n",
    "plt.show()"
   ]
  },
  {
   "cell_type": "markdown",
   "metadata": {},
   "source": [
    "#### MLP Scikit"
   ]
  },
  {
   "cell_type": "code",
   "execution_count": null,
   "metadata": {},
   "outputs": [],
   "source": [
    "# Load MNIST dari OpenML\n",
    "X, y = fetch_openml(\"mnist_784\", version=1, return_X_y=True, as_frame=False)"
   ]
  },
  {
   "cell_type": "code",
   "execution_count": null,
   "metadata": {},
   "outputs": [],
   "source": [
    "random_state = check_random_state(0)\n",
    "permutation = random_state.permutation(X.shape[0])\n",
    "X = X[permutation]\n",
    "y = y[permutation]\n",
    "X = X.reshape((X.shape[0], -1))\n",
    "# Normalisasi (scaling agar lebih stabil)\n",
    "scaler = StandardScaler()\n",
    "X = scaler.fit_transform(X)\n",
    "\n",
    "# Split data menjadi training & testing\n",
    "X_train, X_test, y_train, y_test = train_test_split(X, y, test_size=0.2, random_state=42)\n",
    "\n"
   ]
  },
  {
   "cell_type": "code",
   "execution_count": null,
   "metadata": {},
   "outputs": [],
   "source": [
    "# Buat model MLP\n",
    "mlp = MLPClassifier(hidden_layer_sizes=(128, 64), activation='relu', solver='adam',\n",
    "                    alpha=0.001, max_iter=20, random_state=42)\n",
    "\n",
    "# Training model\n",
    "mlp.fit(X_train, y_train)\n",
    "\n",
    "# Prediksi pada data uji\n",
    "y_pred = mlp.predict(X_test)\n"
   ]
  },
  {
   "cell_type": "code",
   "execution_count": null,
   "metadata": {},
   "outputs": [],
   "source": [
    "# Akurasi\n",
    "accuracy = accuracy_score(y_test, y_pred)\n",
    "print(f\"Akurasi Model MLP: {accuracy:.4f}\")\n",
    "\n",
    "# Classification Report\n",
    "print(\"Classification Report:\\n\", classification_report(y_test, y_pred))\n",
    "\n",
    "# Confusion Matrix\n",
    "plt.figure(figsize=(8, 6))\n",
    "sns.heatmap(confusion_matrix(y_test, y_pred), annot=True, fmt=\"d\", cmap=\"Blues\")\n",
    "plt.xlabel(\"Predicted Label\")\n",
    "plt.ylabel(\"True Label\")\n",
    "plt.title(\"Confusion Matrix\")\n",
    "plt.show()\n"
   ]
  },
  {
   "cell_type": "code",
   "execution_count": null,
   "metadata": {},
   "outputs": [],
   "source": [
    "sample_idx = 2\n",
    "sample_image = X_test[sample_idx].reshape(1, -1)  # Ambil satu sample\n",
    "proba = mlp.predict_proba(sample_image)[0]  # Ambil probabilitas dari output\n",
    "proba"
   ]
  },
  {
   "cell_type": "code",
   "execution_count": null,
   "metadata": {},
   "outputs": [],
   "source": [
    "# Pilih satu gambar uji\n",
    "sample_idx = 2\n",
    "sample_image = X_test[sample_idx].reshape(1, -1)  # Ambil satu sample\n",
    "proba = mlp.predict_proba(sample_image)[0]  # Ambil probabilitas dari output\n",
    "\n",
    "# Plot Probabilitas Output\n",
    "plt.bar(range(10), proba)\n",
    "plt.xlabel(\"Digit (0-9)\")\n",
    "plt.ylabel(\"Probabilitas\")\n",
    "plt.title(\"Probabilitas Prediksi Model MLP Sklearn\")\n",
    "plt.show()\n"
   ]
  },
  {
   "cell_type": "markdown",
   "metadata": {},
   "source": [
    "### Implementation Scratch"
   ]
  },
  {
   "cell_type": "markdown",
   "metadata": {},
   "source": [
    "#### MNIST"
   ]
  },
  {
   "cell_type": "code",
   "execution_count": null,
   "metadata": {},
   "outputs": [],
   "source": [
    "# Load data from https://www.openml.org/d/554\n",
    "X, y = fetch_openml(\"mnist_784\", version=1, return_X_y=True, as_frame=False)"
   ]
  },
  {
   "cell_type": "markdown",
   "metadata": {},
   "source": [
    "##### Random Samples"
   ]
  },
  {
   "cell_type": "code",
   "execution_count": null,
   "metadata": {},
   "outputs": [],
   "source": [
    "train_samples = 2000\n",
    "random_state = check_random_state(0)\n",
    "permutation = random_state.permutation(X.shape[0])\n",
    "X = X[permutation]\n",
    "y = y[permutation]\n",
    "X = X.reshape((X.shape[0], -1))\n",
    "X = X / 255.0\n",
    "\n",
    "\n",
    "X_train, X_test, y_train, y_test = train_test_split(\n",
    "    X, y, train_size=train_samples, test_size=500\n",
    ")\n",
    "encoder = OneHotEncoder(sparse_output=False)\n",
    "y_train_encode = encoder.fit_transform(y_train.reshape(-1, 1))\n",
    "y_test_encode = encoder.transform(y_test.reshape(-1, 1))\n",
    "input_layer = X_train.shape[1]  # 784\n",
    "\n",
    "output_layer = 10  # MNIST punya 10 kelas (0-9)\n",
    "print(f\"Shape X_train: {X_train.shape}, y_train: {y_train_encode.shape}\")\n",
    "print(f\"Shape X_test: {X_test.shape}, y_test: {y_test_encode.shape}\")"
   ]
  },
  {
   "cell_type": "markdown",
   "metadata": {},
   "source": [
    "##### Selected Samples"
   ]
  },
  {
   "cell_type": "code",
   "execution_count": null,
   "metadata": {},
   "outputs": [],
   "source": [
    "X, y = fetch_openml(\"mnist_784\", version=1, return_X_y=True, as_frame=False)\n",
    "X = X / 255.0\n",
    "random_state = check_random_state(0)\n",
    "y = y.astype(int)\n",
    "\n",
    "samples_per_class = 100\n",
    "selected_indices = []\n",
    "\n",
    "for digit in range(10):\n",
    "    indices = np.where(y == digit)[0]  \n",
    "    chosen = random_state.choice(indices, samples_per_class, replace=False)  \n",
    "    selected_indices.extend(chosen)\n",
    "\n",
    "X_train = X[selected_indices]\n",
    "y_train = y[selected_indices]\n",
    "\n",
    "encoder = OneHotEncoder(sparse_output=False)\n",
    "y_train_encode = encoder.fit_transform(y_train.reshape(-1, 1))\n",
    "\n",
    "print(f\"Shape X_train: {X_train.shape}, y_train: {y_train_encode.shape}\")\n",
    "print(\"Jumlah sampel per kelas:\", {i: np.sum(y_train == i) for i in range(10)})\n",
    "input_layer = X_train.shape[1] \n",
    "output_layer = 10  \n"
   ]
  },
  {
   "cell_type": "markdown",
   "metadata": {},
   "source": [
    "##### Reducted Image"
   ]
  },
  {
   "cell_type": "code",
   "execution_count": 32,
   "metadata": {},
   "outputs": [
    {
     "name": "stdout",
     "output_type": "stream",
     "text": [
      "Shape X_train: (2000, 196), y_train: (2000, 10)\n",
      "Jumlah sampel per kelas: {0: np.int64(197), 1: np.int64(225), 2: np.int64(200), 3: np.int64(204), 4: np.int64(195), 5: np.int64(180), 6: np.int64(197), 7: np.int64(208), 8: np.int64(195), 9: np.int64(199)}\n"
     ]
    }
   ],
   "source": [
    "\n",
    "X, y = fetch_openml(\"mnist_784\", version=1, return_X_y=True, as_frame=False)\n",
    "X = X / 255.0\n",
    "y = y.astype(int)\n",
    "samples_per_class = 200\n",
    "X_selected, _, y_train, _ = train_test_split(\n",
    "    X, y, train_size=samples_per_class * 10, stratify=y, random_state=0\n",
    ")\n",
    "X_train = np.array([zoom(img.reshape(28, 28), zoom=0.5).flatten() for img in X_selected])\n",
    "encoder = OneHotEncoder(sparse_output=False)\n",
    "y_train_encode = encoder.fit_transform(y_train.reshape(-1, 1))\n",
    "print(f\"Shape X_train: {X_train.shape}, y_train: {y_train_encode.shape}\")  \n",
    "print(\"Jumlah sampel per kelas:\", {i: np.sum(y_train == i) for i in range(10)})\n",
    "\n",
    "input_layer = X_train.shape[1] \n",
    "output_layer = 10  \n"
   ]
  },
  {
   "cell_type": "code",
   "execution_count": 33,
   "metadata": {},
   "outputs": [
    {
     "name": "stdout",
     "output_type": "stream",
     "text": [
      "sz:  [196, 8, 4, 10]\n"
     ]
    }
   ],
   "source": [
    "layer_f_activations = [\n",
    "  [8, 'relu'], \n",
    "  [4, 'relu'], \n",
    "  [output_layer, 'softmax'] \n",
    "]\n",
    "weight = Weight(\"uniform\", 42, input_layer, lower=-1, upper=1)\n",
    "biasW = Weight(\"uniform\", 42, input_layer, lower=1, upper=1)\n",
    "n = MLP(input_layer, [n[0] for n in layer_f_activations], activations=[n[1] for n in layer_f_activations], weight=weight,biasW=biasW)"
   ]
  },
  {
   "cell_type": "code",
   "execution_count": 34,
   "metadata": {},
   "outputs": [
    {
     "name": "stderr",
     "output_type": "stream",
     "text": [
      "Epoch 2/2 - Backpropagating: 100%|██████████| 2/2 [04:19<00:00, 129.81s/epoch, Train Loss=0.0224]                   \n"
     ]
    },
    {
     "data": {
      "text/plain": [
       "inputx : 196 MLP of [Layer of [ReluNeuron(196), ReluNeuron(196), ReluNeuron(196), ReluNeuron(196), ReluNeuron(196), ReluNeuron(196), ReluNeuron(196), ReluNeuron(196)], Layer of [ReluNeuron(196), ReluNeuron(196), ReluNeuron(196), ReluNeuron(196)], Layer of [SoftmaxNeuron(196), SoftmaxNeuron(196), SoftmaxNeuron(196), SoftmaxNeuron(196), SoftmaxNeuron(196), SoftmaxNeuron(196), SoftmaxNeuron(196), SoftmaxNeuron(196), SoftmaxNeuron(196), SoftmaxNeuron(196)]]"
      ]
     },
     "execution_count": 34,
     "metadata": {},
     "output_type": "execute_result"
    }
   ],
   "source": [
    "n.fit_minibatch(x=X_train, y=y_train_encode, epoch=2, lossfunc=\"CCE\", learning_rate=0.1, batch_size=128)"
   ]
  },
  {
   "cell_type": "code",
   "execution_count": 35,
   "metadata": {},
   "outputs": [
    {
     "data": {
      "image/png": "[encoded data removed]",
      "text/plain": [
       "<Figure size 640x480 with 1 Axes>"
      ]
     },
     "metadata": {},
     "output_type": "display_data"
    }
   ],
   "source": [
    "n.plot_loss()"
   ]
  },
  {
   "cell_type": "code",
   "execution_count": null,
   "metadata": {},
   "outputs": [],
   "source": [
    "n.save(filepath=\"tes.pkl\")"
   ]
  },
  {
   "cell_type": "code",
   "execution_count": 36,
   "metadata": {},
   "outputs": [
    {
     "name": "stdout",
     "output_type": "stream",
     "text": [
      "28\n",
      "35\n",
      "51\n",
      "63\n",
      "84\n",
      "88\n",
      "100\n",
      "139\n",
      "150\n",
      "176\n",
      "181\n",
      "182\n",
      "183\n",
      "198\n",
      "215\n",
      "220\n",
      "242\n",
      "258\n",
      "303\n",
      "333\n",
      "364\n",
      "380\n",
      "400\n",
      "403\n",
      "412\n",
      "424\n",
      "447\n",
      "451\n",
      "458\n",
      "469\n",
      "485\n",
      "521\n",
      "529\n",
      "536\n",
      "557\n",
      "607\n",
      "620\n",
      "637\n",
      "665\n",
      "667\n",
      "705\n",
      "713\n",
      "721\n",
      "731\n",
      "741\n",
      "816\n",
      "819\n",
      "831\n",
      "851\n",
      "859\n",
      "868\n",
      "875\n",
      "896\n",
      "901\n",
      "918\n",
      "924\n",
      "939\n",
      "941\n",
      "948\n",
      "949\n",
      "951\n",
      "959\n",
      "980\n",
      "989\n",
      "997\n",
      "1005\n",
      "1011\n",
      "1022\n",
      "1024\n",
      "1065\n",
      "1099\n",
      "1101\n",
      "1111\n",
      "1113\n",
      "1125\n",
      "1130\n",
      "1132\n",
      "1135\n",
      "1151\n",
      "1193\n",
      "1205\n",
      "1210\n",
      "1241\n",
      "1244\n",
      "1247\n",
      "1278\n",
      "1280\n",
      "1313\n",
      "1315\n",
      "1337\n",
      "1354\n",
      "1370\n",
      "1374\n",
      "1375\n",
      "1379\n",
      "1403\n",
      "1409\n",
      "1436\n",
      "1441\n",
      "1452\n",
      "1501\n",
      "1508\n",
      "1580\n",
      "1586\n",
      "1605\n",
      "1614\n",
      "1619\n",
      "1648\n",
      "1670\n",
      "1692\n",
      "1697\n",
      "1720\n",
      "1769\n",
      "1789\n",
      "1802\n",
      "1849\n",
      "1851\n",
      "1856\n",
      "1890\n",
      "1937\n",
      "1944\n",
      "1961\n",
      "1964\n",
      "1966\n",
      "1994\n",
      "acc: 6.25% (125/2000)\n"
     ]
    }
   ],
   "source": [
    "import numpy as np\n",
    "\n",
    "correct_predictions = 0\n",
    "total_samples = len(X_train)\n",
    "\n",
    "for i in range(total_samples):\n",
    "    sample_vector = X_train[i].reshape(1, -1)  \n",
    "    ypred = n.predict(sample_vector)  \n",
    "\n",
    "    proba = [y_i.data for y in ypred for y_i in y]\n",
    "    predicted_class = np.argmax(proba) \n",
    "\n",
    "    if predicted_class == y_train[i]:\n",
    "        correct_predictions += 1\n",
    "        print(i)\n",
    "\n",
    "accuracy = (correct_predictions / total_samples) * 100\n",
    "print(f\"acc: {accuracy:.2f}% ({correct_predictions}/{total_samples})\")\n"
   ]
  },
  {
   "cell_type": "code",
   "execution_count": 26,
   "metadata": {},
   "outputs": [
    {
     "data": {
      "image/png": "[encoded data removed]",
      "text/plain": [
       "<Figure size 640x480 with 1 Axes>"
      ]
     },
     "metadata": {},
     "output_type": "display_data"
    },
    {
     "name": "stdout",
     "output_type": "stream",
     "text": [
      "proba terbesar:  6.675107300085643e-05\n",
      "proba terbesar:  6.675107300085643e-05\n",
      "proba terbesar:  0.005168004841913329\n",
      "proba terbesar:  0.005168004841913329\n",
      "proba terbesar:  0.005168004841913329\n",
      "proba terbesar:  0.0059626286623118835\n",
      "proba terbesar:  0.01958157329606952\n",
      "proba terbesar:  0.01958157329606952\n",
      "proba terbesar:  0.021810514139948802\n",
      "proba terbesar:  0.9471445739616218\n"
     ]
    }
   ],
   "source": [
    "\n",
    "sample_idx =99\n",
    "sample_image = X_train[sample_idx].reshape(14, 14) \n",
    "plt.imshow(sample_image, cmap=\"gray\")\n",
    "plt.title(f\"Sample Index: {sample_idx}\")\n",
    "plt.axis(\"off\")  \n",
    "plt.show()\n",
    "sample_image = X_train[sample_idx].reshape(1, -1) \n",
    "ypred = n.predict(sample_image)\n",
    "proba = []\n",
    "for y in ypred:\n",
    "    for y_i in y:\n",
    "        proba.append(y_i.data)\n",
    "        print(\"proba terbesar: \", max(proba))"
   ]
  },
  {
   "cell_type": "code",
   "execution_count": null,
   "metadata": {},
   "outputs": [
    {
     "data": {
      "image/png": "[encoded data removed]",
      "text/plain": [
       "<Figure size 640x480 with 1 Axes>"
      ]
     },
     "metadata": {},
     "output_type": "display_data"
    }
   ],
   "source": [
    "plt.bar(range(10),proba )\n",
    "plt.xlabel(\"dig\")\n",
    "plt.ylabel(\"prob\")\n",
    "plt.show()"
   ]
  },
  {
   "cell_type": "markdown",
   "metadata": {},
   "source": [
    "#### Random Testing"
   ]
  },
  {
   "cell_type": "code",
   "execution_count": null,
   "metadata": {},
   "outputs": [],
   "source": [
    "input_layer = 100\n",
    "output_layer = 10\n",
    "batch_size = 50\n",
    "np.random.seed(42)\n",
    "x = np.random.uniform(-2,2,(batch_size,input_layer))\n",
    "y= np.random.uniform(0,2,(batch_size,output_layer))\n",
    "\n",
    "\n",
    "\n",
    "X_train, X_val, y_train, y_val = train_test_split(x, y, test_size=0.3, random_state=42)\n",
    "print(\"Training X shape:\", X_train.shape)\n",
    "print(\"Validation Y shape:\", y_val.shape)\n"
   ]
  },
  {
   "cell_type": "code",
   "execution_count": null,
   "metadata": {},
   "outputs": [],
   "source": [
    "input_layer = 10\n",
    "output_layer = 10\n",
    "batch_size = 100\n",
    "\n",
    "np.random.seed(42)\n",
    "X = np.random.normal(loc=0.5, scale=0.2, size=(batch_size, input_layer))  \n",
    "\n",
    "y_labels = np.random.randint(0, output_layer, size=batch_size).reshape(-1, 1)  \n",
    "encoder = OneHotEncoder(sparse_output=False)\n",
    "y = encoder.fit_transform(y_labels)  \n",
    "\n",
    "X_train, X_val, y_train, y_val = train_test_split(X, y, test_size=0.3, random_state=42)\n",
    "\n",
    "print(\"Training X shape:\", X_train.shape)\n",
    "print(\"Validation X shape:\", X_val.shape)\n",
    "print(\"Training Y shape:\", y_train.shape)\n",
    "print(\"Validation Y shape:\", y_val.shape)\n",
    "print(\"Contoh y_train:\", y_train[:5])  \n"
   ]
  },
  {
   "cell_type": "code",
   "execution_count": null,
   "metadata": {},
   "outputs": [],
   "source": [
    "layer_f_activations = [\n",
    "  [8,'relu'],\n",
    "  [4,'relu'],\n",
    "  [output_layer,'softmax']\n",
    "]\n",
    "weight = Weight(\"uniform\", 42, input_layer, lower=-1, upper=1)\n",
    "biasW = Weight(\"uniform\", 42, input_layer, lower=-0.1, upper=0.1)\n",
    "\n",
    "#kalau mau ada history valid  loss, masukin y_val dan x_val\n",
    "n = MLP(input_layer,[n[0] for n in layer_f_activations],activations=[n[1] for n in layer_f_activations],weight=weight,biasW=biasW)\n"
   ]
  },
  {
   "cell_type": "code",
   "execution_count": null,
   "metadata": {},
   "outputs": [],
   "source": [
    "n.fit(x=X_train,y = y_train ,epoch=20,lossfunc=\"CCE\",learning_rate=0.1)"
   ]
  },
  {
   "cell_type": "code",
   "execution_count": null,
   "metadata": {},
   "outputs": [],
   "source": [
    "n.plot_W_distribution(1)"
   ]
  },
  {
   "cell_type": "code",
   "execution_count": null,
   "metadata": {},
   "outputs": [],
   "source": [
    "n.parameters()"
   ]
  },
  {
   "cell_type": "code",
   "execution_count": null,
   "metadata": {},
   "outputs": [],
   "source": [
    "n.fit_minibatch(x=X_train, y=y_train, epoch=20, lossfunc=\"CCE\", learning_rate=0.1, batch_size=10)"
   ]
  },
  {
   "cell_type": "code",
   "execution_count": null,
   "metadata": {},
   "outputs": [],
   "source": [
    "n.plot_W_distribution(1)"
   ]
  },
  {
   "cell_type": "code",
   "execution_count": null,
   "metadata": {},
   "outputs": [],
   "source": [
    "n.parameters()"
   ]
  },
  {
   "cell_type": "code",
   "execution_count": null,
   "metadata": {},
   "outputs": [],
   "source": []
  },
  {
   "cell_type": "code",
   "execution_count": null,
   "metadata": {},
   "outputs": [],
   "source": [
    "n.plot_loss()"
   ]
  },
  {
   "cell_type": "code",
   "execution_count": null,
   "metadata": {},
   "outputs": [],
   "source": [
    "draw_mlp(n)"
   ]
  },
  {
   "cell_type": "code",
   "execution_count": null,
   "metadata": {},
   "outputs": [],
   "source": [
    "draw_dot(mse).render(\"graph_output.dot\",view = True)"
   ]
  },
  {
   "cell_type": "code",
   "execution_count": null,
   "metadata": {},
   "outputs": [],
   "source": [
    "print(mse._prev)"
   ]
  },
  {
   "cell_type": "code",
   "execution_count": null,
   "metadata": {},
   "outputs": [],
   "source": [
    "draw_mlp(n).render(\"mlp.dot\",view= True)\n"
   ]
  }
 ],
 "metadata": {
  "kernelspec": {
   "display_name": "Python 3",
   "language": "python",
   "name": "python3"
  },
  "language_info": {
   "codemirror_mode": {
    "name": "ipython",
    "version": 3
   },
   "file_extension": ".py",
   "mimetype": "text/x-python",
   "name": "python",
   "nbconvert_exporter": "python",
   "pygments_lexer": "ipython3",
   "version": "3.10.7"
  }
 },
 "nbformat": 4,
 "nbformat_minor": 2
}
