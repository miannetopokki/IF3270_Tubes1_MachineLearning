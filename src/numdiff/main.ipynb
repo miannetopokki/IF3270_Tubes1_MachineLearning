{
 "cells": [
  {
   "cell_type": "code",
   "execution_count": 1,
   "metadata": {},
   "outputs": [],
   "source": [
    "from lib.MLP import *\n",
    "import random\n",
    "\n",
    "import time\n",
    "import matplotlib.pyplot as plt\n",
    "import numpy as np\n",
    "from sklearn.neural_network import MLPClassifier\n",
    "from sklearn.datasets import fetch_openml\n",
    "from sklearn.linear_model import LogisticRegression\n",
    "from sklearn.model_selection import train_test_split\n",
    "from sklearn.preprocessing import StandardScaler\n",
    "from sklearn.utils import check_random_state\n",
    "from sklearn.preprocessing import OneHotEncoder\n",
    "from sklearn.metrics import accuracy_score, classification_report, confusion_matrix"
   ]
  },
  {
   "cell_type": "code",
   "execution_count": 2,
   "metadata": {},
   "outputs": [
    {
     "name": "stdout",
     "output_type": "stream",
     "text": [
      "Dataset loaded: 60000 training samples, 10000 test samples.\n"
     ]
    }
   ],
   "source": [
    "\n",
    "\n",
    "mnist = fetch_openml('mnist_784', version=1, parser='auto')\n",
    "\n",
    "X, y = mnist.data, mnist.target.astype(int)\n",
    "X = X.to_numpy() / 255.0  \n",
    "y = y.astype(int).to_numpy()  \n",
    "def one_hot(y, num_classes=10):\n",
    "    one_hot_encoded = np.zeros((y.shape[0], num_classes))\n",
    "    one_hot_encoded[np.arange(y.shape[0]), y] = 1\n",
    "    return one_hot_encoded\n",
    "\n",
    "y = one_hot(y)\n",
    "\n",
    "X_train, X_test, y_train, y_test = train_test_split(X, y, test_size=10000, random_state=42)\n",
    "print(f\"Dataset loaded: {X_train.shape[0]} training samples, {X_test.shape[0]} test samples.\")\n"
   ]
  },
  {
   "cell_type": "code",
   "execution_count": null,
   "metadata": {},
   "outputs": [
    {
     "name": "stderr",
     "output_type": "stream",
     "text": [
      "Training: 100%|██████████| 10/10 [00:07<00:00,  1.40epoch/s, accuracy=89.43%, train_loss=0.4133, val_loss=0.4621]"
     ]
    },
    {
     "name": "stdout",
     "output_type": "stream",
     "text": [
      "Test Accuracy: 88.26%\n",
      "\n",
      "Evaluating original model...\n",
      "Original model accuracy: 0.8900\n",
      "\n",
      "Saving model...\n",
      "Model successfully saved to mnist_model.pkl\n",
      "Model saved to mnist_model.pkl\n",
      "\n",
      "Loading model...\n",
      "Model successfully loaded from mnist_model.pkl\n",
      "\n",
      "Validating loaded model...\n",
      "Loaded model accuracy: 0.8900\n",
      "\n",
      "Predictions identical: True\n",
      "\n",
      "Comparing model parameters:\n",
      "Layer 0: All parameters match ✓\n",
      "Layer 1: All parameters match ✓\n",
      "Layer 2: All parameters match ✓\n",
      "Layer 3: All parameters match ✓\n",
      "\n",
      "Overall parameter comparison: PASSED\n"
     ]
    },
    {
     "name": "stderr",
     "output_type": "stream",
     "text": [
      "\n"
     ]
    }
   ],
   "source": [
    "# Buat model\n",
    "input_layer = Layer(input_size=784, n_neurons=8, activation='relu', bias_init='zeros',seed=42,weight_init='he_uniform')\n",
    "hidden_layer_1 = Layer(input_size=8, n_neurons=8, activation='relu', bias_init='zeros',seed=42,weight_init='he_uniform')\n",
    "hidden_layer_2 = Layer(input_size=8, n_neurons=4, activation='relu', bias_init='zeros',seed=42,weight_init='he_uniform')\n",
    "output_layer = Layer(input_size=4, n_neurons=10, activation='softmax', bias_init='zeros',seed=42,weight_init='he_uniform')\n",
    "\n",
    "layers = [input_layer, hidden_layer_1, hidden_layer_2,output_layer]\n",
    "\n",
    "mlp = MLP(layers=layers, loss_function='cce',lr=0.1)\n",
    "\n",
    "# Training model\n",
    "mlp.train(X_train, y_train,X_val=X_test,y_val=y_test ,epochs=10, batch_size=100)\n",
    "\n",
    "# Evaluasi di test set\n",
    "test_acc = mlp.accuracy(X_test, y_test)\n",
    "print(f\"Test Accuracy: {test_acc:.2f}%\")\n"
   ]
  },
  {
   "cell_type": "code",
   "execution_count": null,
   "metadata": {},
   "outputs": [],
   "source": [
    "print(\"\\nEvaluating original model...\")\n",
    "original_predictions = mlp.predict(X_test[:100])\n",
    "y_test_indices = np.argmax(y_test[:100], axis=1)\n",
    "original_accuracy = accuracy_score(y_test_indices, original_predictions)\n",
    "print(f\"Original model accuracy: {original_accuracy:.4f}\")\n",
    "\n",
    "print(\"\\nSaving model...\")\n",
    "save_path = 'mnist_model.pkl'\n",
    "mlp.save(save_path)\n",
    "print(f\"Model saved to {save_path}\")\n",
    "\n",
    "print(\"\\nLoading model...\")\n",
    "loaded_model = MLP.load(save_path)\n",
    "\n",
    "print(\"\\nValidating loaded model...\")\n",
    "loaded_predictions = loaded_model.predict(X_test[:100])\n",
    "loaded_accuracy = accuracy_score(y_test_indices, loaded_predictions)\n",
    "print(f\"Loaded model accuracy: {loaded_accuracy:.4f}\")\n",
    "\n",
    "is_identical = np.array_equal(original_predictions, loaded_predictions)\n",
    "print(f\"\\nPredictions identical: {is_identical}\")\n",
    "\n",
    "print(\"\\nComparing model parameters:\")\n",
    "all_params_match = True\n",
    "\n",
    "if len(mlp.layers) != len(loaded_model.layers):\n",
    "    print(f\"Different number of layers: {len(mlp.layers)} vs {len(loaded_model.layers)}\")\n",
    "    all_params_match = False\n",
    "else:\n",
    "    for i, (orig_layer, loaded_layer) in enumerate(zip(mlp.layers, loaded_model.layers)):\n",
    "        weights_match = np.array_equal(orig_layer.weights, loaded_layer.weights)\n",
    "        biases_match = np.array_equal(orig_layer.biases, loaded_layer.biases)\n",
    "        \n",
    "        if weights_match and biases_match:\n",
    "            print(f\"Layer {i}: All parameters match ✓\")\n",
    "        else:\n",
    "            which_diff = []\n",
    "            if not weights_match: which_diff.append(\"weights\")\n",
    "            if not biases_match: which_diff.append(\"biases\")\n",
    "            print(f\"Layer {i}: Parameters differ ({', '.join(which_diff)}) ✗\")\n",
    "            all_params_match = False\n",
    "\n",
    "print(f\"\\nOverall parameter comparison: {'PASSED' if all_params_match else 'FAILED'}\")"
   ]
  },
  {
   "cell_type": "code",
   "execution_count": 4,
   "metadata": {},
   "outputs": [
    {
     "data": {
      "image/png": "[encoded data removed]",
      "text/plain": [
       "<Figure size 640x480 with 1 Axes>"
      ]
     },
     "metadata": {},
     "output_type": "display_data"
    }
   ],
   "source": [
    "mlp.plot_loss()"
   ]
  }
 ],
 "metadata": {
  "kernelspec": {
   "display_name": "Python 3",
   "language": "python",
   "name": "python3"
  },
  "language_info": {
   "codemirror_mode": {
    "name": "ipython",
    "version": 3
   },
   "file_extension": ".py",
   "mimetype": "text/x-python",
   "name": "python",
   "nbconvert_exporter": "python",
   "pygments_lexer": "ipython3",
   "version": "3.11.1"
  }
 },
 "nbformat": 4,
 "nbformat_minor": 2
}
